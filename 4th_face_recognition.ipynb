{
 "cells": [
  {
   "cell_type": "code",
   "execution_count": 1,
   "id": "9e26e793",
   "metadata": {},
   "outputs": [],
   "source": [
    "import tensorflow as tf\n",
    "import pandas as pd\n",
    "import numpy as np\n",
    "import matplotlib.pyplot as plt\n",
    "import seaborn as sns"
   ]
  },
  {
   "cell_type": "code",
   "execution_count": 2,
   "id": "fa856734",
   "metadata": {},
   "outputs": [],
   "source": [
    "from tensorflow.keras import Sequential\n",
    "from tensorflow.python.keras import regularizers\n",
    "from tensorflow.keras.layers import Dense,Dropout,Activation,MaxPooling2D,Flatten,Conv2D\n",
    "from tensorflow import keras"
   ]
  },
  {
   "cell_type": "code",
   "execution_count": 3,
   "id": "70778081",
   "metadata": {},
   "outputs": [],
   "source": [
    "train=r\"C:\\Users\\nishu\\Desktop\\final_data\\training\"\n",
    "test=r\"C:\\Users\\nishu\\Desktop\\final_data\\testing\""
   ]
  },
  {
   "cell_type": "code",
   "execution_count": 4,
   "id": "abe91d90",
   "metadata": {},
   "outputs": [],
   "source": [
    "from tensorflow.keras import layers"
   ]
  },
  {
   "cell_type": "code",
   "execution_count": 20,
   "id": "dac31908",
   "metadata": {},
   "outputs": [],
   "source": [
    "model1 = keras.Sequential(\n",
    "    [\n",
    "        keras.Input(shape=(224,224,3)),\n",
    "        layers.Conv2D(32, kernel_size=(3, 3), activation=\"relu\"),\n",
    "        layers.MaxPooling2D(pool_size=(2, 2)),\n",
    "        layers.Dropout(0.5),\n",
    "        layers.Conv2D(64, kernel_size=(3, 3), activation=\"relu\"),\n",
    "        layers.Conv2D(128, kernel_size=(3, 3), activation=\"relu\"),\n",
    "        layers.MaxPooling2D(pool_size=(2, 2)),\n",
    "        layers.Flatten(),\n",
    "        layers.Dropout(0.5),\n",
    "        layers.Dense(8, activation=\"softmax\"),\n",
    "    ]\n",
    ")"
   ]
  },
  {
   "cell_type": "code",
   "execution_count": 21,
   "id": "1ece2b25",
   "metadata": {},
   "outputs": [
    {
     "name": "stdout",
     "output_type": "stream",
     "text": [
      "Model: \"sequential_1\"\n",
      "_________________________________________________________________\n",
      " Layer (type)                Output Shape              Param #   \n",
      "=================================================================\n",
      " conv2d_3 (Conv2D)           (None, 222, 222, 32)      896       \n",
      "                                                                 \n",
      " max_pooling2d_2 (MaxPooling  (None, 111, 111, 32)     0         \n",
      " 2D)                                                             \n",
      "                                                                 \n",
      " dropout_2 (Dropout)         (None, 111, 111, 32)      0         \n",
      "                                                                 \n",
      " conv2d_4 (Conv2D)           (None, 109, 109, 64)      18496     \n",
      "                                                                 \n",
      " conv2d_5 (Conv2D)           (None, 107, 107, 128)     73856     \n",
      "                                                                 \n",
      " max_pooling2d_3 (MaxPooling  (None, 53, 53, 128)      0         \n",
      " 2D)                                                             \n",
      "                                                                 \n",
      " flatten_1 (Flatten)         (None, 359552)            0         \n",
      "                                                                 \n",
      " dropout_3 (Dropout)         (None, 359552)            0         \n",
      "                                                                 \n",
      " dense_1 (Dense)             (None, 8)                 2876424   \n",
      "                                                                 \n",
      "=================================================================\n",
      "Total params: 2,969,672\n",
      "Trainable params: 2,969,672\n",
      "Non-trainable params: 0\n",
      "_________________________________________________________________\n"
     ]
    }
   ],
   "source": [
    "model1.summary()"
   ]
  },
  {
   "cell_type": "code",
   "execution_count": 22,
   "id": "648c099a",
   "metadata": {},
   "outputs": [],
   "source": [
    "model1.compile(loss='binary_crossentropy',optimizer='adam',metrics=['accuracy'])"
   ]
  },
  {
   "cell_type": "code",
   "execution_count": 23,
   "id": "5abf41a5",
   "metadata": {},
   "outputs": [],
   "source": [
    "from keras.preprocessing.image import ImageDataGenerator"
   ]
  },
  {
   "cell_type": "code",
   "execution_count": 24,
   "id": "2d2e7a57",
   "metadata": {},
   "outputs": [],
   "source": [
    "train_datagen = ImageDataGenerator(\n",
    "        shear_range=0.1,\n",
    "        zoom_range=0.1,\n",
    "        horizontal_flip=True)"
   ]
  },
  {
   "cell_type": "code",
   "execution_count": 25,
   "id": "51df743e",
   "metadata": {},
   "outputs": [],
   "source": [
    "test_datagen = ImageDataGenerator(shear_range=0.1,\n",
    "        zoom_range=0.1,\n",
    "        horizontal_flip=True)"
   ]
  },
  {
   "cell_type": "code",
   "execution_count": 26,
   "id": "47f25478",
   "metadata": {},
   "outputs": [
    {
     "name": "stdout",
     "output_type": "stream",
     "text": [
      "Found 168 images belonging to 8 classes.\n",
      "Found 72 images belonging to 8 classes.\n"
     ]
    }
   ],
   "source": [
    "training_set = train_datagen.flow_from_directory(\n",
    "        train,\n",
    "        target_size=(224,224),\n",
    "        batch_size=5,\n",
    "        class_mode='categorical')\n",
    "test_set = test_datagen.flow_from_directory(\n",
    "        test,\n",
    "        target_size=(225,224),\n",
    "        batch_size=5,\n",
    "        class_mode='categorical')"
   ]
  },
  {
   "cell_type": "code",
   "execution_count": 27,
   "id": "57612b5a",
   "metadata": {},
   "outputs": [
    {
     "data": {
      "text/plain": [
       "{'Nikita': 0,\n",
       " 'Nishant': 1,\n",
       " 'Raju': 2,\n",
       " 'Rayushka': 3,\n",
       " 'Sakshi': 4,\n",
       " 'Sameeksha': 5,\n",
       " 'Shivam': 6,\n",
       " 'Yogesh': 7}"
      ]
     },
     "execution_count": 27,
     "metadata": {},
     "output_type": "execute_result"
    }
   ],
   "source": [
    "test_set.class_indices"
   ]
  },
  {
   "cell_type": "code",
   "execution_count": 28,
   "id": "115dbd53",
   "metadata": {},
   "outputs": [
    {
     "name": "stdout",
     "output_type": "stream",
     "text": [
      "Mapping of Face and its ID {0: 'Nikita', 1: 'Nishant', 2: 'Raju', 3: 'Rayushka', 4: 'Sakshi', 5: 'Sameeksha', 6: 'Shivam', 7: 'Yogesh'}\n",
      "\n",
      " The Number of output neurons:  8\n"
     ]
    }
   ],
   "source": [
    "TrainClasses=training_set.class_indices\n",
    " \n",
    "\n",
    "ResultMap={}\n",
    "for faceValue,faceName in zip(TrainClasses.values(),TrainClasses.keys()):\n",
    "    ResultMap[faceValue]=faceName\n",
    " \n",
    "# Saving the face map for future reference\n",
    "import pickle\n",
    "with open(\"ResultsMap.pkl\", 'wb') as fileWriteStream:\n",
    "    pickle.dump(ResultMap, fileWriteStream)\n",
    " \n",
    "# The model will give answer as a numeric tag\n",
    "# This mapping will help to get the corresponding face name for it\n",
    "print(\"Mapping of Face and its ID\",ResultMap)\n",
    " \n",
    "# The number of neurons for the output layer is equal to the number of faces\n",
    "OutputNeurons=len(ResultMap)\n",
    "print('\\n The Number of output neurons: ', OutputNeurons)"
   ]
  },
  {
   "cell_type": "code",
   "execution_count": 29,
   "id": "36662155",
   "metadata": {},
   "outputs": [],
   "source": [
    "batch_size = 4\n",
    "no_epochs = 20\n",
    "steps_per_epochs = no_epochs // batch_size"
   ]
  },
  {
   "cell_type": "code",
   "execution_count": 30,
   "id": "1acba348",
   "metadata": {},
   "outputs": [
    {
     "name": "stdout",
     "output_type": "stream",
     "text": [
      "Epoch 1/20\n"
     ]
    },
    {
     "name": "stderr",
     "output_type": "stream",
     "text": [
      "C:\\Users\\nishu\\AppData\\Local\\Temp/ipykernel_13228/3166162726.py:1: UserWarning: `Model.fit_generator` is deprecated and will be removed in a future version. Please use `Model.fit`, which supports generators.\n",
      "  model1.fit_generator(training_set,steps_per_epoch=steps_per_epochs,epochs=no_epochs,validation_data=test_set,\n"
     ]
    },
    {
     "name": "stdout",
     "output_type": "stream",
     "text": [
      "5/5 [==============================] - 4s 682ms/step - loss: 466.3920 - accuracy: 0.1200 - val_loss: 26.7906 - val_accuracy: 0.1000\n",
      "Epoch 2/20\n",
      "5/5 [==============================] - 3s 510ms/step - loss: 37.3145 - accuracy: 0.0800 - val_loss: 0.6684 - val_accuracy: 0.2500\n",
      "Epoch 3/20\n",
      "5/5 [==============================] - 2s 468ms/step - loss: 0.5515 - accuracy: 0.2609 - val_loss: 0.6847 - val_accuracy: 0.5000\n",
      "Epoch 4/20\n",
      "5/5 [==============================] - 2s 449ms/step - loss: 0.6594 - accuracy: 0.2800 - val_loss: 0.6539 - val_accuracy: 0.6500\n",
      "Epoch 5/20\n",
      "5/5 [==============================] - 2s 427ms/step - loss: 0.5214 - accuracy: 0.4400 - val_loss: 0.5363 - val_accuracy: 0.6000\n",
      "Epoch 6/20\n",
      "5/5 [==============================] - 2s 413ms/step - loss: 0.3688 - accuracy: 0.3478 - val_loss: 0.4363 - val_accuracy: 0.6000\n",
      "Epoch 7/20\n",
      "5/5 [==============================] - 2s 398ms/step - loss: 0.3160 - accuracy: 0.5217 - val_loss: 0.3441 - val_accuracy: 0.6000\n",
      "Epoch 8/20\n",
      "5/5 [==============================] - 2s 441ms/step - loss: 0.3118 - accuracy: 0.6800 - val_loss: 0.2365 - val_accuracy: 0.8000\n",
      "Epoch 9/20\n",
      "5/5 [==============================] - 2s 421ms/step - loss: 0.2532 - accuracy: 0.8400 - val_loss: 0.2591 - val_accuracy: 0.9000\n",
      "Epoch 10/20\n",
      "5/5 [==============================] - 2s 443ms/step - loss: 0.2202 - accuracy: 0.8800 - val_loss: 0.1814 - val_accuracy: 0.7000\n",
      "Epoch 11/20\n",
      "5/5 [==============================] - 2s 433ms/step - loss: 0.1582 - accuracy: 0.9200 - val_loss: 0.1426 - val_accuracy: 0.9000\n",
      "Epoch 12/20\n",
      "5/5 [==============================] - 2s 420ms/step - loss: 0.1706 - accuracy: 0.8800 - val_loss: 0.1953 - val_accuracy: 0.8000\n",
      "Epoch 13/20\n",
      "5/5 [==============================] - 2s 416ms/step - loss: 0.1274 - accuracy: 0.9200 - val_loss: 0.1248 - val_accuracy: 0.8500\n",
      "Epoch 14/20\n",
      "5/5 [==============================] - 2s 416ms/step - loss: 0.1146 - accuracy: 0.9600 - val_loss: 0.1083 - val_accuracy: 1.0000\n",
      "Epoch 15/20\n",
      "5/5 [==============================] - 2s 421ms/step - loss: 0.1133 - accuracy: 0.9600 - val_loss: 0.1181 - val_accuracy: 0.9000\n",
      "Epoch 16/20\n",
      "5/5 [==============================] - 2s 416ms/step - loss: 0.0835 - accuracy: 0.9600 - val_loss: 0.0650 - val_accuracy: 1.0000\n",
      "Epoch 17/20\n",
      "5/5 [==============================] - 2s 426ms/step - loss: 0.0804 - accuracy: 0.9600 - val_loss: 0.1047 - val_accuracy: 0.8500\n",
      "Epoch 18/20\n",
      "5/5 [==============================] - 2s 391ms/step - loss: 0.0701 - accuracy: 1.0000 - val_loss: 0.0535 - val_accuracy: 1.0000\n",
      "Epoch 19/20\n",
      "5/5 [==============================] - 2s 442ms/step - loss: 0.0573 - accuracy: 0.9200 - val_loss: 0.0523 - val_accuracy: 1.0000\n",
      "Epoch 20/20\n",
      "5/5 [==============================] - 2s 388ms/step - loss: 0.0388 - accuracy: 1.0000 - val_loss: 0.0753 - val_accuracy: 0.9500\n"
     ]
    },
    {
     "data": {
      "text/plain": [
       "<keras.callbacks.History at 0x2091d8a3670>"
      ]
     },
     "execution_count": 30,
     "metadata": {},
     "output_type": "execute_result"
    }
   ],
   "source": [
    "model1.fit_generator(training_set,steps_per_epoch=steps_per_epochs,epochs=no_epochs,validation_data=test_set,\n",
    "        validation_steps=4)"
   ]
  },
  {
   "cell_type": "code",
   "execution_count": 31,
   "id": "1f7bd982",
   "metadata": {},
   "outputs": [],
   "source": [
    "import numpy as np\n",
    "from keras.preprocessing import image"
   ]
  },
  {
   "cell_type": "code",
   "execution_count": 32,
   "id": "d3ac9614",
   "metadata": {},
   "outputs": [],
   "source": [
    "from tensorflow.keras.utils import load_img, img_to_array "
   ]
  },
  {
   "cell_type": "code",
   "execution_count": 34,
   "id": "8e6bbfba",
   "metadata": {},
   "outputs": [],
   "source": [
    "ImagePath='C:\\\\Users\\\\nishu\\\\Desktop\\\\final_data\\\\testing\\\\Nishant\\\\23.jpg'\n",
    "test_image=keras.utils.load_img(ImagePath,target_size=(224,224))\n",
    "test_image=keras.utils.img_to_array(test_image)"
   ]
  },
  {
   "cell_type": "code",
   "execution_count": 35,
   "id": "14bf18c8",
   "metadata": {},
   "outputs": [],
   "source": [
    "test_image=np.expand_dims(test_image,axis=0)\n",
    " \n",
    "result=model1.predict(test_image,verbose=0)"
   ]
  },
  {
   "cell_type": "code",
   "execution_count": 36,
   "id": "ef098b4b",
   "metadata": {},
   "outputs": [
    {
     "name": "stdout",
     "output_type": "stream",
     "text": [
      "Prediction is:  Nishant\n"
     ]
    }
   ],
   "source": [
    "print('Prediction is: ',ResultMap[np.argmax(result)])"
   ]
  }
 ],
 "metadata": {
  "kernelspec": {
   "display_name": "Python 3 (ipykernel)",
   "language": "python",
   "name": "python3"
  },
  "language_info": {
   "codemirror_mode": {
    "name": "ipython",
    "version": 3
   },
   "file_extension": ".py",
   "mimetype": "text/x-python",
   "name": "python",
   "nbconvert_exporter": "python",
   "pygments_lexer": "ipython3",
   "version": "3.9.7"
  }
 },
 "nbformat": 4,
 "nbformat_minor": 5
}
